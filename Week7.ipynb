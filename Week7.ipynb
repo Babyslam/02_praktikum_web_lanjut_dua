{
  "nbformat": 4,
  "nbformat_minor": 0,
  "metadata": {
    "colab": {
      "name": "Week7.ipynb",
      "provenance": [],
      "authorship_tag": "ABX9TyN//AjAor1F7dSsV/J7mYBH",
      "include_colab_link": true
    },
    "kernelspec": {
      "name": "python3",
      "display_name": "Python 3"
    },
    "language_info": {
      "name": "python"
    }
  },
  "cells": [
    {
      "cell_type": "markdown",
      "metadata": {
        "id": "view-in-github",
        "colab_type": "text"
      },
      "source": [
        "<a href=\"https://colab.research.google.com/github/Babyslam/02_praktikum_web_lanjut_dua/blob/master/Week7.ipynb\" target=\"_parent\"><img src=\"https://colab.research.google.com/assets/colab-badge.svg\" alt=\"Open In Colab\"/></a>"
      ]
    },
    {
      "cell_type": "code",
      "execution_count": 1,
      "metadata": {
        "colab": {
          "base_uri": "https://localhost:8080/"
        },
        "id": "aTWLnaL-Und2",
        "outputId": "0f3ec96a-6874-4242-e2f6-d831bd464bed"
      },
      "outputs": [
        {
          "output_type": "stream",
          "name": "stdout",
          "text": [
            "Mounted at /content/drive\n"
          ]
        }
      ],
      "source": [
        "from google.colab import drive\n",
        "\n",
        "drive.mount('/content/drive')"
      ]
    },
    {
      "cell_type": "code",
      "source": [
        "import numpy as np\n",
        "import matplotlib.pyplot as plt\n",
        "import cv2 as cv\n",
        "import math\n",
        "from google.colab.patches import cv2_imshow\n",
        "from PIL import Image as im"
      ],
      "metadata": {
        "id": "dqSpWBQfUz33"
      },
      "execution_count": 2,
      "outputs": []
    },
    {
      "cell_type": "code",
      "source": [
        "def convolution2d(image, kernel, stride, padding):\n",
        "\n",
        "  image = np.pad(image, padding, mode='constant', constant_values=0)\n",
        "\n",
        "  kernel_height, kernel_width = kernel.shape\n",
        "  padded_height, padded_width = image.shape\n",
        "\n",
        "  output_height = (padded_height - kernel_height) // stride + 1\n",
        "  output_width = (padded_width - kernel_width) // stride + 1\n",
        "\n",
        "  new_image = np.zeros((output_height, output_width)).astype(np.float32)\n",
        "\n",
        "  # convolution process\n",
        "  for y in range(0, output_height):\n",
        "    for x in range(0, output_width):\n",
        "      new_image[y][x] = np.sum(image[y * stride:y * stride + kernel_height, x * stride:x * stride + kernel_width] * kernel).astype(np.float32)\n",
        "      \n",
        "  return new_image"
      ],
      "metadata": {
        "id": "hXdrcwObVAsj"
      },
      "execution_count": 3,
      "outputs": []
    },
    {
      "cell_type": "code",
      "source": [
        "img = cv.imread('/content/drive/MyDrive/ImagesPCVK/mandrill.tiff')\n",
        "img_gray = cv.cvtColor(img, cv.COLOR_BGR2GRAY)"
      ],
      "metadata": {
        "id": "Y9ZHW0cAVEFs"
      },
      "execution_count": 14,
      "outputs": []
    },
    {
      "cell_type": "code",
      "source": [
        "# image sharpen\n",
        "kernel_sharpen = np.array([[0,-1,0],\n",
        "                           [-1,5,-1],\n",
        "                           [0,-1,0]])\n",
        "\n",
        "cv2_imshow(convolution2d(img_gray, kernel_sharpen, 1, 2))"
      ],
      "metadata": {
        "colab": {
          "base_uri": "https://localhost:8080/",
          "height": 121
        },
        "id": "UPMgEpA9Vko-",
        "outputId": "d7dafc25-3645-45c5-fc84-8d7231c6b8d5"
      },
      "execution_count": 12,
      "outputs": [
        {
          "output_type": "display_data",
          "data": {
            "text/plain": [
              "<PIL.Image.Image image mode=L size=104x104 at 0x7FE9FC14F650>"
            ],
            "image/png": "[encoded data removed]"
          },
          "metadata": {}
        }
      ]
    },
    {
      "cell_type": "code",
      "source": [
        "# image emboss\n",
        "kernel_emboss = np.array([[-2,-1,0],\n",
        "                          [-1,1,1],\n",
        "                          [0,1,2]])\n",
        "\n",
        "cv2_imshow(convolution2d(img_gray, kernel_emboss, 1, 2))"
      ],
      "metadata": {
        "colab": {
          "base_uri": "https://localhost:8080/",
          "height": 121
        },
        "id": "jXhRuNWhXFVw",
        "outputId": "bbb5a52e-7375-4f37-bbbe-7d173de6f6e1"
      },
      "execution_count": 7,
      "outputs": [
        {
          "output_type": "display_data",
          "data": {
            "text/plain": [
              "<PIL.Image.Image image mode=L size=104x104 at 0x7FE9FC1B3710>"
            ],
            "image/png": "[encoded data removed]"
          },
          "metadata": {}
        }
      ]
    },
    {
      "cell_type": "code",
      "source": [
        "# image left sobel edge detection\n",
        "kernel_sobel = np.array([[1,0,-1],\n",
        "                         [2,0,-2],\n",
        "                         [1,0,-1]])\n",
        "\n",
        "cv2_imshow(convolution2d(img_gray, kernel_sobel, 1, 2))"
      ],
      "metadata": {
        "colab": {
          "base_uri": "https://localhost:8080/",
          "height": 121
        },
        "id": "tQWwEciSXQc5",
        "outputId": "4f61eb9a-9830-40d0-c54b-c41c6a407b0d"
      },
      "execution_count": 8,
      "outputs": [
        {
          "output_type": "display_data",
          "data": {
            "text/plain": [
              "<PIL.Image.Image image mode=L size=104x104 at 0x7FE9FC1BA110>"
            ],
            "image/png": "[encoded data removed]"
          },
          "metadata": {}
        }
      ]
    },
    {
      "cell_type": "code",
      "source": [
        "# image canny edge detection\n",
        "kernel_canny = np.array([[-1,-1,-1],\n",
        "                         [-1,8,-1],\n",
        "                         [-1,-1,-1]])\n",
        "\n",
        "cv2_imshow(convolution2d(img_gray, kernel_canny, 1, 2))"
      ],
      "metadata": {
        "colab": {
          "base_uri": "https://localhost:8080/",
          "height": 121
        },
        "id": "O-1ptpOGXdSU",
        "outputId": "8c22ee31-3d8f-4042-b0fb-d40c916efded"
      },
      "execution_count": 9,
      "outputs": [
        {
          "output_type": "display_data",
          "data": {
            "text/plain": [
              "<PIL.Image.Image image mode=L size=104x104 at 0x7FE9FC1495D0>"
            ],
            "image/png": "[encoded data removed]"
          },
          "metadata": {}
        }
      ]
    },
    {
      "cell_type": "code",
      "source": [
        "# image 21x21 gaussian blur\n",
        "kernel_size = 21\n",
        "sigma = math.sqrt(kernel_size)\n",
        "gaussian_kernel = cv.getGaussianKernel(kernel_size, sigma)\n",
        "gauss_kernel = gaussian_kernel @ gaussian_kernel.transpose()\n",
        "\n",
        "cv2_imshow(convolution2d(img_gray, gauss_kernel, 1, 2))"
      ],
      "metadata": {
        "colab": {
          "base_uri": "https://localhost:8080/",
          "height": 102
        },
        "id": "N86nkupTXhM0",
        "outputId": "ec4bf1e2-eba2-4703-8b87-338beff9f2db"
      },
      "execution_count": 10,
      "outputs": [
        {
          "output_type": "display_data",
          "data": {
            "text/plain": [
              "<PIL.Image.Image image mode=L size=86x86 at 0x7FE9FC149350>"
            ],
            "image/png": "[encoded data removed]"
          },
          "metadata": {}
        }
      ]
    }
  ]
}